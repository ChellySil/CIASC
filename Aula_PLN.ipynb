{
  "nbformat": 4,
  "nbformat_minor": 0,
  "metadata": {
    "colab": {
      "provenance": [],
      "authorship_tag": "ABX9TyOCc23IWX4PsOzDgUdMsKSU",
      "include_colab_link": true
    },
    "kernelspec": {
      "name": "python3",
      "display_name": "Python 3"
    },
    "language_info": {
      "name": "python"
    }
  },
  "cells": [
    {
      "cell_type": "markdown",
      "metadata": {
        "id": "view-in-github",
        "colab_type": "text"
      },
      "source": [
        "<a href=\"https://colab.research.google.com/github/ChellySil/CIASC/blob/main/Aula_PLN.ipynb\" target=\"_parent\"><img src=\"https://colab.research.google.com/assets/colab-badge.svg\" alt=\"Open In Colab\"/></a>"
      ]
    },
    {
      "cell_type": "code",
      "execution_count": 2,
      "metadata": {
        "colab": {
          "base_uri": "https://localhost:8080/"
        },
        "id": "5zd_pk-3svUP",
        "outputId": "3b892eb3-7e28-414d-b67f-15da2c008be6"
      },
      "outputs": [
        {
          "output_type": "execute_result",
          "data": {
            "text/plain": [
              "['to', 'to', 'to', 'to', 'to', 'to', 'to', 'to', 'to', 'to', 'to']"
            ]
          },
          "metadata": {},
          "execution_count": 2
        }
      ],
      "source": [
        "import re ## biblioteca que para expressões regulares\n",
        "\n",
        "poema = \"\"\"De tudo, ao meu amor serei atento\n",
        "Antes, e com tal zelo, e sempre, e tanto\n",
        "Que mesmo em face do maior encanto\n",
        "Dele se encante mais meu pensamento.Quero vivê-lo em cada vão momento\n",
        "E em louvor hei de espalhar meu canto\n",
        "E rir meu riso e derramar meu pranto\n",
        "Ao seu pesar ou seu contentamento.E assim, quando mais tarde me procure\n",
        "Quem sabe a morte, angústia de quem vive\n",
        "Quem sabe a solidão, fim de quem amaEu possa me dizer do amor (que tive):\n",
        "Que não seja imortal, posto que é chama\n",
        "Mas que seja infinito enquanto dure. \"\"\"\n",
        "\n",
        "\n",
        "re.findall(r\"to\", poema)\n",
        "\n"
      ]
    },
    {
      "cell_type": "code",
      "source": [
        "import re \n",
        "\n",
        "poema_2 = \"\"\"Minha terra tem palmeiras,\n",
        "Onde canta o Sabiá;\n",
        "As aves, que aqui gorjeiam,\n",
        "Não gorjeiam como lá.Nosso céu tem mais estrelas,\n",
        "Nossa várzeas têm mais flores,\n",
        "nossos bosques têm mais vida,\n",
        "Nossa vida mais amores.Em cismar, sozinho, à noite,\n",
        "Mais prazer encontro eu lá;\n",
        "Minha terra tem palmeiras,\n",
        "Onde canta o Sabiá.Minha terra tem primores,\n",
        "Que tais não encontro eu cá;\n",
        "Em cismar — sozinho, à noite —\n",
        "Mais prazer encontro eu lá;\n",
        "Minha terra tem palmeiras,\n",
        "Onde canta o Sabiá.Não permita Deus que eu morra,\n",
        "Sem que eu volte para lá;\n",
        "Sem que desfrute os primores\n",
        "Que não encontro por cá;\n",
        "Sem qu’inda aviste as palmeiras,\n",
        "Onde canta o Sabiá.\"\"\"\n",
        "\n",
        "re.findall(r\"[Nn]osso\", poema_2)\n",
        "\n",
        "\n"
      ],
      "metadata": {
        "colab": {
          "base_uri": "https://localhost:8080/"
        },
        "id": "ZROixhwPv-Fa",
        "outputId": "dd535be2-abb0-43bd-f94f-167e35edee4e"
      },
      "execution_count": 11,
      "outputs": [
        {
          "output_type": "execute_result",
          "data": {
            "text/plain": [
              "['Nosso', 'nosso']"
            ]
          },
          "metadata": {},
          "execution_count": 11
        }
      ]
    },
    {
      "cell_type": "code",
      "source": [
        "texto = \"O rato roeu a roupa do rei de roma. Romeu ralou o joelho na rodovia\"\n",
        "\n",
        "re.findall(r\"r\", texto)"
      ],
      "metadata": {
        "colab": {
          "base_uri": "https://localhost:8080/"
        },
        "id": "dzf8W7-vxdlP",
        "outputId": "21bf8888-58a2-4298-ec1b-d21bd4f15ff3"
      },
      "execution_count": 5,
      "outputs": [
        {
          "output_type": "execute_result",
          "data": {
            "text/plain": [
              "['r', 'r', 'r', 'r', 'r', 'r', 'r']"
            ]
          },
          "metadata": {},
          "execution_count": 5
        }
      ]
    },
    {
      "cell_type": "code",
      "source": [],
      "metadata": {
        "id": "I1MfIERj0o6m"
      },
      "execution_count": null,
      "outputs": []
    },
    {
      "cell_type": "code",
      "source": [
        " import re \n",
        " \n",
        " texto_2 = \"nothing in my tail, but has a thing you, I know that 1 3 3 5 5 2 8 05\"\n",
        "\n",
        " re.findall(r\"[a-z]\", texto_2)"
      ],
      "metadata": {
        "id": "beDcpJACyFGd"
      },
      "execution_count": null,
      "outputs": []
    },
    {
      "cell_type": "code",
      "source": [
        "import re\n",
        "\n",
        "texto_3 = \"1 2 3 4 5 6 7 8 9 0 100 120\"\n",
        "\n",
        "len(re.findall(r\"[2-7]\", texto_3))\n"
      ],
      "metadata": {
        "colab": {
          "base_uri": "https://localhost:8080/"
        },
        "id": "t_usLZtJ1OEh",
        "outputId": "bcf0b0d0-6045-4fa1-dc0c-8a0a242315ce"
      },
      "execution_count": 28,
      "outputs": [
        {
          "output_type": "execute_result",
          "data": {
            "text/plain": [
              "7"
            ]
          },
          "metadata": {},
          "execution_count": 28
        }
      ]
    },
    {
      "cell_type": "code",
      "source": [
        "import re\n",
        "\n",
        "texto_4 = \"\"\" A amizade consegue ser tão complexa.\n",
        "Deixa uns desanimados, outros bem felizes.\n",
        "É a alimentação dos fracos\n",
        "É o reino dos fortes.\n",
        "\n",
        "Faz-nos cometer erros\n",
        "Os fracos deixam se ir abaixo\n",
        "Os fortes erguem sempre a cabeça\n",
        "Os assim assumem-nos.\n",
        "\n",
        "Sem pensar conquistamos\n",
        "o mundo geral\n",
        "e construímos o nosso pequeno lugar,\n",
        "deixando brilhar cada estrelinha.\n",
        "\n",
        "Estrelinhas.\n",
        "Doces, sensíveis, frias, ternurentas.\n",
        "Mas sempre presentes em qualquer parte.\n",
        "Os donos da amizade.\"\"\"\n",
        "\n",
        "re.findall(r\"[^esfto]\", texto_4)\n",
        "\n"
      ],
      "metadata": {
        "colab": {
          "base_uri": "https://localhost:8080/"
        },
        "id": "bUzJpyBb4Mr7",
        "outputId": "9b8dccb5-ccf0-4cb5-f1fa-115ac8fe252d"
      },
      "execution_count": 29,
      "outputs": [
        {
          "output_type": "execute_result",
          "data": {
            "text/plain": [
              "[' ',\n",
              " 'A',\n",
              " ' ',\n",
              " 'a',\n",
              " 'm',\n",
              " 'i',\n",
              " 'z',\n",
              " 'a',\n",
              " 'd',\n",
              " ' ',\n",
              " 'c',\n",
              " 'n',\n",
              " 'g',\n",
              " 'u',\n",
              " ' ',\n",
              " 'r',\n",
              " ' ',\n",
              " 'ã',\n",
              " ' ',\n",
              " 'c',\n",
              " 'm',\n",
              " 'p',\n",
              " 'l',\n",
              " 'x',\n",
              " 'a',\n",
              " '.',\n",
              " '\\n',\n",
              " 'D',\n",
              " 'i',\n",
              " 'x',\n",
              " 'a',\n",
              " ' ',\n",
              " 'u',\n",
              " 'n',\n",
              " ' ',\n",
              " 'd',\n",
              " 'a',\n",
              " 'n',\n",
              " 'i',\n",
              " 'm',\n",
              " 'a',\n",
              " 'd',\n",
              " ',',\n",
              " ' ',\n",
              " 'u',\n",
              " 'r',\n",
              " ' ',\n",
              " 'b',\n",
              " 'm',\n",
              " ' ',\n",
              " 'l',\n",
              " 'i',\n",
              " 'z',\n",
              " '.',\n",
              " '\\n',\n",
              " 'É',\n",
              " ' ',\n",
              " 'a',\n",
              " ' ',\n",
              " 'a',\n",
              " 'l',\n",
              " 'i',\n",
              " 'm',\n",
              " 'n',\n",
              " 'a',\n",
              " 'ç',\n",
              " 'ã',\n",
              " ' ',\n",
              " 'd',\n",
              " ' ',\n",
              " 'r',\n",
              " 'a',\n",
              " 'c',\n",
              " '\\n',\n",
              " 'É',\n",
              " ' ',\n",
              " ' ',\n",
              " 'r',\n",
              " 'i',\n",
              " 'n',\n",
              " ' ',\n",
              " 'd',\n",
              " ' ',\n",
              " 'r',\n",
              " '.',\n",
              " '\\n',\n",
              " '\\n',\n",
              " 'F',\n",
              " 'a',\n",
              " 'z',\n",
              " '-',\n",
              " 'n',\n",
              " ' ',\n",
              " 'c',\n",
              " 'm',\n",
              " 'r',\n",
              " ' ',\n",
              " 'r',\n",
              " 'r',\n",
              " '\\n',\n",
              " 'O',\n",
              " ' ',\n",
              " 'r',\n",
              " 'a',\n",
              " 'c',\n",
              " ' ',\n",
              " 'd',\n",
              " 'i',\n",
              " 'x',\n",
              " 'a',\n",
              " 'm',\n",
              " ' ',\n",
              " ' ',\n",
              " 'i',\n",
              " 'r',\n",
              " ' ',\n",
              " 'a',\n",
              " 'b',\n",
              " 'a',\n",
              " 'i',\n",
              " 'x',\n",
              " '\\n',\n",
              " 'O',\n",
              " ' ',\n",
              " 'r',\n",
              " ' ',\n",
              " 'r',\n",
              " 'g',\n",
              " 'u',\n",
              " 'm',\n",
              " ' ',\n",
              " 'm',\n",
              " 'p',\n",
              " 'r',\n",
              " ' ',\n",
              " 'a',\n",
              " ' ',\n",
              " 'c',\n",
              " 'a',\n",
              " 'b',\n",
              " 'ç',\n",
              " 'a',\n",
              " '\\n',\n",
              " 'O',\n",
              " ' ',\n",
              " 'a',\n",
              " 'i',\n",
              " 'm',\n",
              " ' ',\n",
              " 'a',\n",
              " 'u',\n",
              " 'm',\n",
              " 'm',\n",
              " '-',\n",
              " 'n',\n",
              " '.',\n",
              " '\\n',\n",
              " '\\n',\n",
              " 'S',\n",
              " 'm',\n",
              " ' ',\n",
              " 'p',\n",
              " 'n',\n",
              " 'a',\n",
              " 'r',\n",
              " ' ',\n",
              " 'c',\n",
              " 'n',\n",
              " 'q',\n",
              " 'u',\n",
              " 'i',\n",
              " 'a',\n",
              " 'm',\n",
              " '\\n',\n",
              " ' ',\n",
              " 'm',\n",
              " 'u',\n",
              " 'n',\n",
              " 'd',\n",
              " ' ',\n",
              " 'g',\n",
              " 'r',\n",
              " 'a',\n",
              " 'l',\n",
              " '\\n',\n",
              " ' ',\n",
              " 'c',\n",
              " 'n',\n",
              " 'r',\n",
              " 'u',\n",
              " 'í',\n",
              " 'm',\n",
              " ' ',\n",
              " ' ',\n",
              " 'n',\n",
              " ' ',\n",
              " 'p',\n",
              " 'q',\n",
              " 'u',\n",
              " 'n',\n",
              " ' ',\n",
              " 'l',\n",
              " 'u',\n",
              " 'g',\n",
              " 'a',\n",
              " 'r',\n",
              " ',',\n",
              " '\\n',\n",
              " 'd',\n",
              " 'i',\n",
              " 'x',\n",
              " 'a',\n",
              " 'n',\n",
              " 'd',\n",
              " ' ',\n",
              " 'b',\n",
              " 'r',\n",
              " 'i',\n",
              " 'l',\n",
              " 'h',\n",
              " 'a',\n",
              " 'r',\n",
              " ' ',\n",
              " 'c',\n",
              " 'a',\n",
              " 'd',\n",
              " 'a',\n",
              " ' ',\n",
              " 'r',\n",
              " 'l',\n",
              " 'i',\n",
              " 'n',\n",
              " 'h',\n",
              " 'a',\n",
              " '.',\n",
              " '\\n',\n",
              " '\\n',\n",
              " 'E',\n",
              " 'r',\n",
              " 'l',\n",
              " 'i',\n",
              " 'n',\n",
              " 'h',\n",
              " 'a',\n",
              " '.',\n",
              " '\\n',\n",
              " 'D',\n",
              " 'c',\n",
              " ',',\n",
              " ' ',\n",
              " 'n',\n",
              " 'í',\n",
              " 'v',\n",
              " 'i',\n",
              " ',',\n",
              " ' ',\n",
              " 'r',\n",
              " 'i',\n",
              " 'a',\n",
              " ',',\n",
              " ' ',\n",
              " 'r',\n",
              " 'n',\n",
              " 'u',\n",
              " 'r',\n",
              " 'n',\n",
              " 'a',\n",
              " '.',\n",
              " '\\n',\n",
              " 'M',\n",
              " 'a',\n",
              " ' ',\n",
              " 'm',\n",
              " 'p',\n",
              " 'r',\n",
              " ' ',\n",
              " 'p',\n",
              " 'r',\n",
              " 'n',\n",
              " ' ',\n",
              " 'm',\n",
              " ' ',\n",
              " 'q',\n",
              " 'u',\n",
              " 'a',\n",
              " 'l',\n",
              " 'q',\n",
              " 'u',\n",
              " 'r',\n",
              " ' ',\n",
              " 'p',\n",
              " 'a',\n",
              " 'r',\n",
              " '.',\n",
              " '\\n',\n",
              " 'O',\n",
              " ' ',\n",
              " 'd',\n",
              " 'n',\n",
              " ' ',\n",
              " 'd',\n",
              " 'a',\n",
              " ' ',\n",
              " 'a',\n",
              " 'm',\n",
              " 'i',\n",
              " 'z',\n",
              " 'a',\n",
              " 'd',\n",
              " '.']"
            ]
          },
          "metadata": {},
          "execution_count": 29
        }
      ]
    },
    {
      "cell_type": "code",
      "source": [
        "import re\n",
        "\n",
        "texto_5 = \"\"\"A amizade consegue ser tão complexa.\n",
        "Deixa uns desanimados, outros bem felizes.\n",
        "É a alimentação dos fracos\n",
        "É o reino dos fortes.\n",
        "\n",
        "Faz-nos cometer erros\n",
        "Os fracos deixam se ir abaixo\n",
        "Os fortes erguem sempre a cabeça\n",
        "Os assim assumem-nos.\n",
        "\n",
        "Sem pensar conquistamos\n",
        "o mundo geral\n",
        "e construímos o nosso pequeno lugar,\n",
        "deixando brilhar cada estrelinha.\n",
        "\n",
        "Estrelinhas.\n",
        "Doces, sensíveis, frias, ternurentas.\n",
        "Mas sempre presentes em qualquer parte.\n",
        "Os donos da amizade.\"\"\"\n",
        "\n",
        "re.findall(r\"Os\", texto_5)\n",
        "\n"
      ],
      "metadata": {
        "colab": {
          "base_uri": "https://localhost:8080/"
        },
        "id": "tgeHrnV256zI",
        "outputId": "6efef4a6-9352-43b5-caae-15a40d019627"
      },
      "execution_count": 30,
      "outputs": [
        {
          "output_type": "execute_result",
          "data": {
            "text/plain": [
              "['Os', 'Os', 'Os', 'Os']"
            ]
          },
          "metadata": {},
          "execution_count": 30
        }
      ]
    }
  ]
}